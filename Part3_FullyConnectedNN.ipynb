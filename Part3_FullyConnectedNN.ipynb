{
  "nbformat": 4,
  "nbformat_minor": 0,
  "metadata": {
    "colab": {
      "name": "Part3_FullyConnectedNN.ipynb",
      "provenance": [],
      "collapsed_sections": [
        "kH9E_ZJ_nmbY",
        "rF2_lGvcny2d",
        "X3PaFMS6oK60",
        "1XlS3yYpofTA",
        "L05XJ1I2qJRv",
        "enbLEfg9pp0d"
      ],
      "toc_visible": true,
      "include_colab_link": true
    },
    "kernelspec": {
      "display_name": "Python 3",
      "language": "python",
      "name": "python3"
    },
    "language_info": {
      "codemirror_mode": {
        "name": "ipython",
        "version": 3
      },
      "file_extension": ".py",
      "mimetype": "text/x-python",
      "name": "python",
      "nbconvert_exporter": "python",
      "pygments_lexer": "ipython3",
      "version": "3.7.9"
    },
    "toc": {
      "base_numbering": 1,
      "nav_menu": {},
      "number_sections": false,
      "sideBar": true,
      "skip_h1_title": false,
      "title_cell": "Table of Contents",
      "title_sidebar": "Contents",
      "toc_cell": false,
      "toc_position": {},
      "toc_section_display": true,
      "toc_window_display": false
    }
  },
  "cells": [
    {
      "cell_type": "markdown",
      "metadata": {
        "id": "view-in-github",
        "colab_type": "text"
      },
      "source": [
        "<a href=\"https://colab.research.google.com/github/yuval-ya/first-neural-network-mnist/blob/master/Part3_FullyConnectedNN.ipynb\" target=\"_parent\"><img src=\"https://colab.research.google.com/assets/colab-badge.svg\" alt=\"Open In Colab\"/></a>"
      ]
    },
    {
      "cell_type": "markdown",
      "metadata": {
        "id": "Gbl4asdQIFCc"
      },
      "source": [
        "# MNIST Digits Classification using Neural Networks\n",
        "\n"
      ]
    },
    {
      "cell_type": "markdown",
      "metadata": {
        "id": "Qg5HZcScU4b4"
      },
      "source": [
        "In this part we will implement our first Neural Network!\n",
        "We will use fully connecter Neural Network in order to classify handwritten digits. We will use the well known MNIST dataset. The MNIST database (Modified National Institute of Standards and Technology database) is a large database of handwritten digits that is commonly used for training various image processing systems. The database is also widely used for training and testing in the field of machine learning.\n",
        "![img](https://upload.wikimedia.org/wikipedia/commons/2/27/MnistExamples.png)"
      ]
    },
    {
      "cell_type": "markdown",
      "metadata": {
        "id": "7RKoWHw7U4b5"
      },
      "source": [
        "## Imports"
      ]
    },
    {
      "cell_type": "code",
      "metadata": {
        "ExecuteTime": {
          "end_time": "2021-04-13T12:46:31.749468Z",
          "start_time": "2021-04-13T12:46:31.525953Z"
        },
        "id": "F2b7d6FTU4b5"
      },
      "source": [
        "%matplotlib inline\n",
        "import os\n",
        "import sys\n",
        "import numpy as np\n",
        "import matplotlib.pyplot as plt\n",
        "from PIL import Image\n",
        "import random\n",
        "import time\n",
        "import copy\n",
        "\n",
        "\n",
        "import torch\n",
        "import torch.nn as nn\n",
        "import torch.nn.functional as F\n",
        "import torch.optim as optim\n",
        "import torchvision\n",
        "from torchvision import datasets, transforms\n",
        "from torch.utils.data import Dataset, DataLoader\n",
        "from sklearn.model_selection import train_test_split"
      ],
      "execution_count": null,
      "outputs": []
    },
    {
      "cell_type": "markdown",
      "metadata": {
        "id": "Ykpbn7glGgMn"
      },
      "source": [
        "Mount your drive in order to run locally with colab"
      ]
    },
    {
      "cell_type": "code",
      "metadata": {
        "ExecuteTime": {
          "end_time": "2021-02-21T10:14:38.362930Z",
          "start_time": "2021-02-21T10:14:38.327023Z"
        },
        "collapsed": true,
        "id": "IpNBHS0MTggD",
        "colab": {
          "base_uri": "https://localhost:8080/"
        },
        "outputId": "0b00f5b8-3628-44ae-c826-73641e5e2cf4"
      },
      "source": [
        "from google.colab import drive\n",
        "drive.mount('/content/drive')\n",
        "%cd /content/drive/My\\ Drive/\n",
        "from utils import *"
      ],
      "execution_count": null,
      "outputs": [
        {
          "output_type": "stream",
          "text": [
            "Drive already mounted at /content/drive; to attempt to forcibly remount, call drive.mount(\"/content/drive\", force_remount=True).\n",
            "/content/drive/My Drive\n"
          ],
          "name": "stdout"
        }
      ]
    },
    {
      "cell_type": "markdown",
      "metadata": {
        "id": "R3y5IDyqIFCr"
      },
      "source": [
        "**QUESTION 1**: What are the problems with sigmoid?\n",
        "\n",
        "**ANSWER**:\n",
        "\n",
        "The problems in the sigmoid function are-\n",
        "* there is a large area that the function has zero (or near zero) derivative, \n",
        "  which cause a lot of cases that we dont have gradient we can improve according to.\n",
        "\n",
        "* there output range isn't centerlize around the zero point.\n",
        "\n",
        "\n",
        "\n",
        "\n",
        "\n",
        "\n"
      ]
    },
    {
      "cell_type": "markdown",
      "metadata": {
        "id": "dFMPV9CxIFCs"
      },
      "source": [
        "here we will implement the sigmoid activation function and it's gradient. You should not use any build-in function of sigmoid."
      ]
    },
    {
      "cell_type": "code",
      "metadata": {
        "id": "1IP_aR9bIFCt"
      },
      "source": [
        "\n",
        "def sigmoid(x):\n",
        "    return 1/(1 + torch.exp(-1 * x))\n",
        "\n",
        "def softmax(x):\n",
        "    \"\"\"\n",
        "  Softmax loss function, should be implemented in a vectorized fashion (without loops)\n",
        "\n",
        "\n",
        "  Inputs:\n",
        "  - X: A numpy array of shape (N, C) containing a minibatch of data.\n",
        "  Returns:\n",
        "  - probabilities: A numpy array of shape (N, C) containing the softmax probabilities.\n",
        "\n",
        "     \"\"\"\n",
        "    #for stability (do not change)\n",
        "    max_per_row, inds = torch.max(x, dim=1)\n",
        "    x = (x.T - max_per_row).T\n",
        "\n",
        "    e_x = torch.exp(x)\n",
        "    ones_mat = torch.ones((e_x.shape[1], e_x.shape[1]))\n",
        "    mat_denominator = torch.matmul(e_x, ones_mat)\n",
        "    probabilities = e_x / mat_denominator\n",
        "    \n",
        "    return probabilities"
      ],
      "execution_count": null,
      "outputs": []
    },
    {
      "cell_type": "markdown",
      "metadata": {
        "id": "nVYLu-cOIFCx"
      },
      "source": [
        "Implement a fully-vectorized loss function for the Softmax classifier.\n"
      ]
    },
    {
      "cell_type": "code",
      "metadata": {
        "ExecuteTime": {
          "end_time": "2021-02-21T15:45:46.798072Z",
          "start_time": "2021-02-21T15:45:46.794176Z"
        },
        "id": "Mp4q0S7yIFCy"
      },
      "source": [
        "def cross_entropy_error(y, t):\n",
        "    \"\"\"\n",
        "    Inputs:\n",
        "\n",
        "    - t:  A numpy array of shape (N,C) containing  a minibatch of training label. it is a one-hot array, \n",
        "      with t[GT]=1 and t=0 elsewhere, where GT is the ground truth label ; \n",
        "    - y: A numpy array of shape (N, C) containing the softmax probabilities (the NN's output).\n",
        "\n",
        "    Returns a tuple of:\n",
        "    - loss as single float (do not forget to divide by the number of samples in the minibatch (N))\n",
        "    \"\"\"\n",
        "\n",
        "    result = 0\n",
        "    log_y = torch.log(y)\n",
        "    num_of_samples = t.shape[0]\n",
        "    for i in range(num_of_samples):\n",
        "      result+=torch.dot(t[i], log_y[i])\n",
        "\n",
        "    result = result / num_of_samples * (-1)\n",
        "\n",
        "    return (result)\n"
      ],
      "execution_count": null,
      "outputs": []
    },
    {
      "cell_type": "code",
      "metadata": {
        "id": "kc1iYo1ycu-9"
      },
      "source": [
        "def get_accuracy(y,t):\n",
        "    \"\"\"\n",
        "    Computes the accuracy of the NN's predictions.\n",
        "    Inputs:\n",
        "    - t:  A numpy array of shape (N,C) containing training labels, it is a one-hot array, \n",
        "      with t[GT]=1 and t=0 elsewhere, where GT is the ground truth label ; \n",
        "    - y: the output probabilities for the minibatch (at the end of the forward pass) of shape (N,C)\n",
        "    Returns:\n",
        "    - accuracy: a single float of the average accuracy.\n",
        "    \"\"\"\n",
        "    true_predictions = 0\n",
        "    num_of_samples = t.shape[0]\n",
        "    for i in range(num_of_samples):\n",
        "      if is_true_prediction(y[i], t[i]):\n",
        "         true_predictions +=1\n",
        "         \n",
        "    return true_predictions / num_of_samples\n",
        "\n",
        "def is_true_prediction(y, t):\n",
        "    return torch.argmax(y) == torch.argmax(t)\n",
        "\n"
      ],
      "execution_count": null,
      "outputs": []
    },
    {
      "cell_type": "markdown",
      "metadata": {
        "id": "Km8C5mzRU4cA"
      },
      "source": [
        "## Fully-connected Network"
      ]
    },
    {
      "cell_type": "markdown",
      "metadata": {
        "id": "twKn0gMbU4cB"
      },
      "source": [
        "We will design and train a two-layer fully-connected neural network with sigmoid nonlinearity and\n",
        "softmax cross entropy loss. We assume an input dimension of D=784, a hidden dimension of H, and perform classification over C classes.\n",
        "\n",
        "The architecture should be fullyconnected -> sigmoid -> fullyconnected -> softmax.\n",
        "\n",
        "We will use torch.nn for the linear functions\n",
        "\n"
      ]
    },
    {
      "cell_type": "markdown",
      "metadata": {
        "id": "IzKBLD79U4cB"
      },
      "source": [
        "### config"
      ]
    },
    {
      "cell_type": "code",
      "metadata": {
        "id": "skno3SoFU4cB"
      },
      "source": [
        "args={}\n",
        "args['batch_size']=1000\n",
        "args['test_batch_size']=1000\n",
        "args['epochs']=15  #The number of Epochs\n",
        "args['validation_ratio']=0.15 #The validation ratio from training set  \n",
        "args['eval_every']=1 #Will evaluate the model ever <eval_every> epochs"
      ],
      "execution_count": null,
      "outputs": []
    },
    {
      "cell_type": "markdown",
      "metadata": {
        "id": "RCDq-7DIU4cC"
      },
      "source": [
        "## load the data"
      ]
    },
    {
      "cell_type": "code",
      "metadata": {
        "id": "p3-FwELYlj1R"
      },
      "source": [
        "device = 'cuda' if torch.cuda.is_available() else 'cpu'"
      ],
      "execution_count": null,
      "outputs": []
    },
    {
      "cell_type": "code",
      "metadata": {
        "id": "0eAwQlkKhBnX"
      },
      "source": [
        "def create_train_validation_loaders(dataset: Dataset, \n",
        "                                         validation_ratio,\n",
        "                                         batch_size=100):\n",
        "    \"\"\"\n",
        "    Splits a dataset into a train and validation set, returning a\n",
        "    DataLoader for each.\n",
        "    :param dataset: The original dataset.\n",
        "    :param validation_ratio: Ratio (in range 0,1) of the validation set size to\n",
        "        total dataset size.\n",
        "    :param batch_size: Batch size the loaders will return from each set.\n",
        "    :return: A tuple of train, validation and test DataLoader instances.\n",
        "    \"\"\"\n",
        "    if not(0.0 < validation_ratio < 1.0):\n",
        "        raise ValueError(validation_ratio)\n",
        "        \n",
        "    train_set, valid_set = train_test_split(dataset, test_size=validation_ratio, shuffle=False)\n",
        "\n",
        "    dl_train = torch.utils.data.DataLoader(\n",
        "      train_set, batch_size=batch_size, shuffle=False, num_workers=2\n",
        "    )\n",
        "    \n",
        "    dl_valid = torch.utils.data.DataLoader(\n",
        "      valid_set, batch_size=batch_size, shuffle=True, num_workers=2\n",
        "    )\n",
        "    \n",
        "    return dl_train, dl_valid"
      ],
      "execution_count": null,
      "outputs": []
    },
    {
      "cell_type": "code",
      "metadata": {
        "ExecuteTime": {
          "end_time": "2021-04-13T12:47:49.813820Z",
          "start_time": "2021-04-13T12:47:49.254398Z"
        },
        "collapsed": true,
        "id": "cNZ0hdZQU4cC"
      },
      "source": [
        "#load the data\n",
        "dataset = datasets.MNIST('./data', train=True, download=True,\n",
        "                         transform=transforms.Compose([transforms.ToTensor(),\n",
        "                                                       transforms.Normalize((0.1307,), (0.3081,))])\n",
        "                        )\n",
        "\n",
        "train_loader, val_loader = create_train_validation_loaders(dataset, \n",
        "                                                           validation_ratio = args['validation_ratio'],\n",
        "                                                           batch_size= args['batch_size'])\n"
      ],
      "execution_count": null,
      "outputs": []
    },
    {
      "cell_type": "code",
      "metadata": {
        "id": "TduQVr5GU4cD"
      },
      "source": [
        "test_loader = torch.utils.data.DataLoader(\n",
        "    datasets.MNIST('./data', train=False, download=True,\n",
        "                   transform=transforms.Compose([\n",
        "                       transforms.ToTensor(),\n",
        "                       transforms.Normalize((0.1307,), (0.3081,))\n",
        "                   ])),\n",
        "    batch_size=args['test_batch_size'], shuffle=False)"
      ],
      "execution_count": null,
      "outputs": []
    },
    {
      "cell_type": "code",
      "metadata": {
        "id": "yNWwDl_DU4cD"
      },
      "source": [
        "dataloaders = {'training':train_loader,\n",
        "               'val':val_loader,\n",
        "               'test':test_loader\n",
        "              }"
      ],
      "execution_count": null,
      "outputs": []
    },
    {
      "cell_type": "markdown",
      "metadata": {
        "id": "XDpcA-M6U4cD"
      },
      "source": [
        "## Fully connected Neural Network"
      ]
    },
    {
      "cell_type": "code",
      "metadata": {
        "id": "_9bq0f5vU4cD"
      },
      "source": [
        "class FullyConnectedNeuralNetwork(nn.Module):\n",
        "    def __init__(self,\n",
        "                 hidden_layer_dim\n",
        "                 ):\n",
        "      super(FullyConnectedNeuralNetwork, self).__init__()\n",
        "      self.fc1 = nn.Linear(784, hidden_layer_dim)\n",
        "      self.fc2 = nn.Linear(hidden_layer_dim, 10)\n",
        "      self.softmax = softmax\n",
        "      self.sigmoid = sigmoid\n",
        "\n",
        "    def forward(self, x):\n",
        "      x = torch.flatten(x, start_dim=1,end_dim=-1)\n",
        "      x = self.fc1(x)\n",
        "      x = self.sigmoid(x)\n",
        "      x = self.fc2(x)\n",
        "      x = self.softmax(x)\n",
        "      return x"
      ],
      "execution_count": null,
      "outputs": []
    },
    {
      "cell_type": "markdown",
      "metadata": {
        "id": "2YYJjr4blOky"
      },
      "source": [
        "The following functions will train our model"
      ]
    },
    {
      "cell_type": "code",
      "metadata": {
        "ExecuteTime": {
          "end_time": "2021-04-13T12:39:22.150093Z",
          "start_time": "2021-04-13T12:39:22.144451Z"
        },
        "id": "zXzLrQpXU4cE"
      },
      "source": [
        "def forward_one_epoch(loader,\n",
        "                      optimizer,\n",
        "                      net,\n",
        "                      mode,\n",
        "                      progress_bar_str,\n",
        "                      num_of_epochs\n",
        "                     ):\n",
        "    \n",
        "\n",
        "    losses, cur_accuracies = [], []\n",
        "    all_preds,all_targets = [], []\n",
        "    for batch_idx, (inputs, targets) in enumerate(loader):\n",
        "        \n",
        "        if mode == Mode.training:\n",
        "            optimizer.zero_grad()\n",
        "            \n",
        "        inputs, targets =inputs.to(device), targets.to(device)\n",
        "        outputs = net(inputs)\n",
        "\n",
        "        targets = F.one_hot(targets, num_classes=10)\n",
        "        targets = torch.tensor(targets, dtype=torch.float32)\n",
        "        loss = cross_entropy_error(outputs, targets)\n",
        "        losses.append(loss.item())\n",
        "\n",
        "        if mode == Mode.training:\n",
        "            #do a step \n",
        "            loss.backward()\n",
        "            optimizer.step()\n",
        "            \n",
        "        if len(targets.shape) ==2:\n",
        "            cur_accuracies.append(get_accuracy(outputs, targets))\n",
        "            \n",
        "        if batch_idx %20 ==0:\n",
        "            progress_bar(batch_idx, len(loader), progress_bar_str\n",
        "                   % (num_of_epochs, np.mean(losses), losses[-1], np.mean(cur_accuracies)))\n",
        "            \n",
        "        targets_cpu = targets.cpu().data.numpy()\n",
        "        outputs_cpu = [i.cpu().data.numpy() for i in outputs]\n",
        "        outputs_cpu = np.argmax(outputs_cpu, axis=1)\n",
        "\n",
        "        all_targets.extend(targets_cpu)\n",
        "        all_preds.extend(outputs_cpu)\n",
        "\n",
        "        del inputs, targets, outputs\n",
        "        torch.cuda.empty_cache()\n",
        "\n",
        "\n",
        "    return losses, cur_accuracies, all_targets, all_preds\n",
        "\n",
        "\n"
      ],
      "execution_count": null,
      "outputs": []
    },
    {
      "cell_type": "code",
      "metadata": {
        "id": "On8iyeAJj9SG"
      },
      "source": [
        "def train(args, dataloaders):\n",
        "  seed = 0\n",
        "  torch.manual_seed(seed)\n",
        "  if torch.cuda.is_available():\n",
        "      torch.cuda.manual_seed_all(seed)\n",
        "\n",
        "  model = FullyConnectedNeuralNetwork(hidden_layer_dim = args['hidden_layer_dim'])\n",
        "  model = model.to(device)\n",
        "\n",
        "  optimizer = torch.optim.SGD(model.parameters(), args['lr'])\n",
        "\n",
        "  training_accuracies, val_accuracies = [], []\n",
        "  training_losses, val_losses = [], [] \n",
        "\n",
        "\n",
        "  training_loader = dataloaders['training']\n",
        "  val_loader = dataloaders['val']\n",
        "  test_loader = dataloaders['test']\n",
        "\n",
        "  best_acc = -1\n",
        "\n",
        "  #start training\n",
        "  for epoch in range(1, args['epochs']+1):\n",
        "\n",
        "      #training\n",
        "      model = model.train()\n",
        "\n",
        "      progress_bar_str = 'Train: repeat %d -- Mean Loss: %.3f | Last Loss: %.3f | Train Acc: %.3f%%' \n",
        "\n",
        "      losses, cur_training_accuracies, _,_ =  forward_one_epoch(\n",
        "          loader = training_loader,\n",
        "          optimizer = optimizer,\n",
        "          net = model,\n",
        "          mode = Mode.training,\n",
        "          progress_bar_str = progress_bar_str,\n",
        "          num_of_epochs = epoch)\n",
        "\n",
        "\n",
        "      train_epoch_acc = np.mean(cur_training_accuracies)\n",
        "      train_epoch_loss= np.mean(losses)\n",
        "      sys.stdout.flush()\n",
        "      print()\n",
        "      print(f'Train epoch {epoch}: accuracy {train_epoch_acc}, loss {train_epoch_loss}', flush=True)\n",
        "      training_accuracies.append(train_epoch_acc)\n",
        "      training_losses.append(train_epoch_loss)\n",
        "\n",
        "\n",
        "\n",
        "      # validation\n",
        "      model.eval()\n",
        "      if (epoch-1)%args['eval_every']==0:\n",
        "          progress_bar_str = 'Validation: repeat %d -- Mean Loss: %.3f | Last Loss: %.3f | val Acc: %.3f%%'\n",
        "\n",
        "          losses, cur_val_accuracies,_,_ =  forward_one_epoch(val_loader,\n",
        "                                                                optimizer,\n",
        "                                                                model,\n",
        "                                                                Mode.validation,\n",
        "                                                                progress_bar_str,\n",
        "                                                                epoch\n",
        "                                                              )\n",
        "          val_epoch_acc= np.mean(cur_val_accuracies)\n",
        "          val_epoch_loss= np.mean(losses)\n",
        "          sys.stdout.flush()\n",
        "          val_accuracies.append(val_epoch_acc)\n",
        "\n",
        "          val_epoch_acc = np.round(val_epoch_acc,3)\n",
        "          print()\n",
        "          print(f'Validation epoch {epoch//args[\"eval_every\"]}: accuracy {val_epoch_acc}, loss {val_epoch_loss}', flush=True)\n",
        "          val_losses.append(val_epoch_loss)\n",
        "          \n",
        "          cur_acc_loss = {\n",
        "            'training_accuracies':training_accuracies,\n",
        "            'val_accuracies':val_accuracies,\n",
        "            'training_losses':training_losses,\n",
        "            'val_losses':val_losses\n",
        "                        }\n",
        "\n",
        "          if best_acc +0.001 < val_epoch_acc:\n",
        "\n",
        "              best_acc = val_epoch_acc\n",
        "              best_acc_epoch = epoch\n",
        "\n",
        "              print(f'========== new best model! epoch {best_acc_epoch}, accuracy {best_acc}  ==========')\n",
        "              best_model = copy.deepcopy(model)\n",
        "\n",
        "              \n",
        "  progress_bar_str = 'Test: repeat %d -- Mean Loss: %.3f | Last Loss: %.3f | Acc: %.3f%%'\n",
        "  test_losses, test_cur_test_accuracies, test_all_targets, test_all_preds = forward_one_epoch(test_loader,\n",
        "                                                                None,\n",
        "                                                                best_model,\n",
        "                                                                Mode.test,\n",
        "                                                                progress_bar_str,\n",
        "                                                                0)\n",
        "\n",
        "  test_epoch_acc= np.mean(test_cur_test_accuracies)\n",
        "  test_epoch_loss= np.mean(test_losses)\n",
        "  print(\"===================== Test Results =====================\")\n",
        "  print(f'Test Accuracy : {test_epoch_acc}')\n",
        "  print(f'Test Loss : {test_epoch_loss}')\n",
        "  return best_model, cur_acc_loss "
      ],
      "execution_count": null,
      "outputs": []
    },
    {
      "cell_type": "markdown",
      "metadata": {
        "id": "hNpSvqKCU4cE"
      },
      "source": [
        "## Training Process"
      ]
    },
    {
      "cell_type": "markdown",
      "metadata": {
        "id": "3zAGAPBrmxNY"
      },
      "source": [
        "We will finetune two hyper parameters:\n",
        "1. The hidden layer dimension.\n",
        "2. The learning rate."
      ]
    },
    {
      "cell_type": "markdown",
      "metadata": {
        "id": "tregfzExpLmV"
      },
      "source": [
        "### Finetuning hidden_layer_dim "
      ]
    },
    {
      "cell_type": "markdown",
      "metadata": {
        "id": "kH9E_ZJ_nmbY"
      },
      "source": [
        "#### hidden_layer_dim = 1, lr = 0.0001  \n",
        "\n",
        "Set the hidden_layer_dim to 1 and the lr to 0.0001 and train the model."
      ]
    },
    {
      "cell_type": "code",
      "metadata": {
        "id": "4fYbIJkuj3s_",
        "colab": {
          "base_uri": "https://localhost:8080/"
        },
        "outputId": "be6957eb-1a42-45d2-9882-bb44e29e0db7"
      },
      "source": [
        "args['hidden_layer_dim'] = 1\n",
        "args['lr']=0.0001  \n",
        "best_model, cur_acc_loss  = train(args, dataloaders)"
      ],
      "execution_count": null,
      "outputs": [
        {
          "output_type": "stream",
          "text": [
            " [>................................................................]  Step: 31m1s | Tot: 3ms | Train: repeat 1 -- Mean Loss: 2.549 | Last Loss: 2.549 | Train Acc: 0.117% 1/51 \r"
          ],
          "name": "stdout"
        },
        {
          "output_type": "stream",
          "text": [
            "/usr/local/lib/python3.7/dist-packages/ipykernel_launcher.py:21: UserWarning: To copy construct from a tensor, it is recommended to use sourceTensor.clone().detach() or sourceTensor.clone().detach().requires_grad_(True), rather than torch.tensor(sourceTensor).\n"
          ],
          "name": "stderr"
        },
        {
          "output_type": "stream",
          "text": [
            "\n",
            "Train epoch 1: accuracy 0.10354901960784313, loss 2.570097334244672\n",
            "\n",
            "Validation epoch 1: accuracy 0.109, loss 2.5496323903401694\n",
            "========== new best model! epoch 1, accuracy 0.109  ==========\n",
            "\n",
            "Train epoch 2: accuracy 0.10354901960784313, loss 2.5617649040970147\n",
            "\n",
            "Validation epoch 2: accuracy 0.109, loss 2.541681263181898\n",
            "\n",
            "Train epoch 3: accuracy 0.10354901960784313, loss 2.5537194597954844\n",
            "\n",
            "Validation epoch 3: accuracy 0.109, loss 2.5340574052598743\n",
            "\n",
            "Train epoch 4: accuracy 0.10354901960784313, loss 2.5460225367078593\n",
            "\n",
            "Validation epoch 4: accuracy 0.109, loss 2.5268110699123807\n",
            "\n",
            "Train epoch 5: accuracy 0.10354901960784313, loss 2.538717844906975\n",
            "\n",
            "Validation epoch 5: accuracy 0.109, loss 2.5199721654256186\n",
            "\n",
            "Train epoch 6: accuracy 0.10354901960784313, loss 2.5318344854841044\n",
            "\n",
            "Validation epoch 6: accuracy 0.109, loss 2.513559579849243\n",
            "\n",
            "Train epoch 7: accuracy 0.10354901960784313, loss 2.5253859735002706\n",
            "\n",
            "Validation epoch 7: accuracy 0.109, loss 2.507576862970988\n",
            "\n",
            "Train epoch 8: accuracy 0.10354901960784313, loss 2.5193728512408686\n",
            "\n",
            "Validation epoch 8: accuracy 0.109, loss 2.502015643649631\n",
            "\n",
            "Train epoch 9: accuracy 0.10354901960784313, loss 2.513785207972807\n",
            "\n",
            "Validation epoch 9: accuracy 0.109, loss 2.4968632062276206\n",
            "\n",
            "Train epoch 10: accuracy 0.10354901960784313, loss 2.508606237523696\n",
            "\n",
            "Validation epoch 10: accuracy 0.109, loss 2.492095258500841\n",
            "\n",
            "Train epoch 11: accuracy 0.10354901960784313, loss 2.503813589320463\n",
            "\n",
            "Validation epoch 11: accuracy 0.109, loss 2.487690422270033\n",
            "\n",
            "Train epoch 12: accuracy 0.10354901960784313, loss 2.4993813739103428\n",
            "\n",
            "Validation epoch 12: accuracy 0.109, loss 2.483621597290039\n",
            "\n",
            "Train epoch 13: accuracy 0.10354901960784313, loss 2.495284674214382\n",
            "\n",
            "Validation epoch 13: accuracy 0.109, loss 2.4798633787367077\n",
            "\n",
            "Train epoch 14: accuracy 0.10354901960784313, loss 2.4914954269633576\n",
            "\n",
            "Validation epoch 14: accuracy 0.109, loss 2.476388269000583\n",
            "\n",
            "Train epoch 15: accuracy 0.10354901960784313, loss 2.4879887197531905\n",
            "\n",
            "Validation epoch 15: accuracy 0.109, loss 2.4731715785132513\n",
            "===================== Test Results =====================\n",
            "Test Accuracy : 0.1028\n",
            "Test Loss : 2.570866513252258\n"
          ],
          "name": "stdout"
        }
      ]
    },
    {
      "cell_type": "code",
      "metadata": {
        "id": "oSDoSDbCU4cF",
        "colab": {
          "base_uri": "https://localhost:8080/",
          "height": 576
        },
        "outputId": "ad03dac9-f98c-45d7-fc87-032e3d8b9f25"
      },
      "source": [
        "training_accuracies = cur_acc_loss['training_accuracies']\n",
        "val_accuracies = cur_acc_loss['val_accuracies']\n",
        "training_losses = cur_acc_loss['training_losses']\n",
        "val_losses = cur_acc_loss['val_losses']\n",
        "plot_graphs(training_accuracies, val_accuracies, training_losses, val_losses)"
      ],
      "execution_count": null,
      "outputs": [
        {
          "output_type": "stream",
          "text": [
            "Best val accuracy was 0.10933333333333334, at epoch 0\n"
          ],
          "name": "stdout"
        },
        {
          "output_type": "display_data",
          "data": {
            "image/png": "[encoded data removed]",
            "text/plain": [
              "<Figure size 432x288 with 1 Axes>"
            ]
          },
          "metadata": {
            "tags": [],
            "needs_background": "light"
          }
        },
        {
          "output_type": "display_data",
          "data": {
            "image/png": "[encoded data removed]",
            "text/plain": [
              "<Figure size 432x288 with 1 Axes>"
            ]
          },
          "metadata": {
            "tags": [],
            "needs_background": "light"
          }
        },
        {
          "output_type": "execute_result",
          "data": {
            "text/plain": [
              "0.10933333333333334"
            ]
          },
          "metadata": {
            "tags": []
          },
          "execution_count": 1163
        }
      ]
    },
    {
      "cell_type": "markdown",
      "metadata": {
        "id": "efHowgYCnb3J"
      },
      "source": [
        "**QUESTION 2.1**: What are the accuracy and loss values? \n",
        "Explain the loss and accuracy graphs.\n",
        "\n",
        "**ANSWER**: \n",
        "\n",
        "the values are - \n",
        "\n",
        "Test Accuracy : 0.1028\n",
        "\n",
        "Test Loss : 2.570866513252258\n",
        "\n",
        "We can see the loss graph is decresing, but the values in a very narrow range.\n",
        "We can see the accuracy graph stuck at the same point and nearly get changed.   \n",
        "Our conclusion is that the forward model calculation is not wide enoungh and has less opportunity to learn (less weights to imporve).\n"
      ]
    },
    {
      "cell_type": "markdown",
      "metadata": {
        "id": "rF2_lGvcny2d"
      },
      "source": [
        "#### hidden_layer_dim = 5, lr = 0.0001\n",
        "\n",
        "Set the hidden_layer_dim to 5 and the lr to 0.0001 and train the model."
      ]
    },
    {
      "cell_type": "code",
      "metadata": {
        "id": "9NejHKIdnynt",
        "colab": {
          "base_uri": "https://localhost:8080/"
        },
        "outputId": "dc94733d-76b4-490a-a78d-f1e199fb2e6d"
      },
      "source": [
        "args['hidden_layer_dim'] = 5\n",
        "args['lr']=0.0001  \n",
        "best_model, cur_acc_loss  = train(args, dataloaders)"
      ],
      "execution_count": null,
      "outputs": [
        {
          "output_type": "stream",
          "text": [
            " [>................................................................]  Step: 1m17s | Tot: 6ms | Train: repeat 1 -- Mean Loss: 2.371 | Last Loss: 2.371 | Train Acc: 0.116% 1/51 \r"
          ],
          "name": "stdout"
        },
        {
          "output_type": "stream",
          "text": [
            "/usr/local/lib/python3.7/dist-packages/ipykernel_launcher.py:21: UserWarning: To copy construct from a tensor, it is recommended to use sourceTensor.clone().detach() or sourceTensor.clone().detach().requires_grad_(True), rather than torch.tensor(sourceTensor).\n"
          ],
          "name": "stderr"
        },
        {
          "output_type": "stream",
          "text": [
            "\n",
            "Train epoch 1: accuracy 0.11349019607843136, loss 2.35745561356638\n",
            "\n",
            "Validation epoch 1: accuracy 0.107, loss 2.3615378538767495\n",
            "========== new best model! epoch 1, accuracy 0.107  ==========\n",
            "\n",
            "Train epoch 2: accuracy 0.11349019607843136, loss 2.3554619480581844\n",
            "\n",
            "Validation epoch 2: accuracy 0.107, loss 2.3595174153645835\n",
            "\n",
            "Train epoch 3: accuracy 0.11349019607843136, loss 2.353494022406784\n",
            "\n",
            "Validation epoch 3: accuracy 0.107, loss 2.3575220108032227\n",
            "\n",
            "Train epoch 4: accuracy 0.11350980392156862, loss 2.3515517337649476\n",
            "\n",
            "Validation epoch 4: accuracy 0.107, loss 2.3555526468488903\n",
            "\n",
            "Train epoch 5: accuracy 0.1135098039215686, loss 2.3496360404818666\n",
            "\n",
            "Validation epoch 5: accuracy 0.107, loss 2.353609985775418\n",
            "\n",
            "Train epoch 6: accuracy 0.11349019607843136, loss 2.347746863084681\n",
            "\n",
            "Validation epoch 6: accuracy 0.107, loss 2.3516938421461315\n",
            "\n",
            "Train epoch 7: accuracy 0.11352941176470586, loss 2.345884112750783\n",
            "\n",
            "Validation epoch 7: accuracy 0.107, loss 2.349804057015313\n",
            "\n",
            "Train epoch 8: accuracy 0.11352941176470586, loss 2.3440484673369166\n",
            "\n",
            "Validation epoch 8: accuracy 0.107, loss 2.34794102774726\n",
            "\n",
            "Train epoch 9: accuracy 0.11354901960784312, loss 2.3422397164737476\n",
            "\n",
            "Validation epoch 9: accuracy 0.107, loss 2.3461050192515054\n",
            "\n",
            "Train epoch 10: accuracy 0.11360784313725487, loss 2.340457654466816\n",
            "\n",
            "Validation epoch 10: accuracy 0.107, loss 2.3442952897813587\n",
            "\n",
            "Train epoch 11: accuracy 0.11368627450980388, loss 2.3387017343558516\n",
            "\n",
            "Validation epoch 11: accuracy 0.107, loss 2.3425113360087075\n",
            "\n",
            "Train epoch 12: accuracy 0.11368627450980388, loss 2.3369731155096316\n",
            "\n",
            "Validation epoch 12: accuracy 0.107, loss 2.3407536347707114\n",
            "\n",
            "Train epoch 13: accuracy 0.11376470588235293, loss 2.3352703954659257\n",
            "\n",
            "Validation epoch 13: accuracy 0.107, loss 2.339022636413574\n",
            "\n",
            "Train epoch 14: accuracy 0.11380392156862744, loss 2.33359395756441\n",
            "\n",
            "Validation epoch 14: accuracy 0.107, loss 2.33731656604343\n",
            "\n",
            "Train epoch 15: accuracy 0.11388235294117645, loss 2.3319429556528726\n",
            "\n",
            "Validation epoch 15: accuracy 0.107, loss 2.33563502629598\n",
            "===================== Test Results =====================\n",
            "Test Accuracy : 0.11359999999999999\n",
            "Test Loss : 2.3594527006149293\n"
          ],
          "name": "stdout"
        }
      ]
    },
    {
      "cell_type": "code",
      "metadata": {
        "id": "E7KhrqANnylL",
        "colab": {
          "base_uri": "https://localhost:8080/",
          "height": 576
        },
        "outputId": "b56bf726-b447-4952-a07c-58ec41e31fd2"
      },
      "source": [
        "training_accuracies = cur_acc_loss['training_accuracies']\n",
        "val_accuracies = cur_acc_loss['val_accuracies']\n",
        "training_losses = cur_acc_loss['training_losses']\n",
        "val_losses = cur_acc_loss['val_losses']\n",
        "plot_graphs(training_accuracies, val_accuracies, training_losses, val_losses)"
      ],
      "execution_count": null,
      "outputs": [
        {
          "output_type": "stream",
          "text": [
            "Best val accuracy was 0.10733333333333334, at epoch 12\n"
          ],
          "name": "stdout"
        },
        {
          "output_type": "display_data",
          "data": {
            "image/png": "[encoded data removed]",
            "text/plain": [
              "<Figure size 432x288 with 1 Axes>"
            ]
          },
          "metadata": {
            "tags": [],
            "needs_background": "light"
          }
        },
        {
          "output_type": "display_data",
          "data": {
            "image/png": "[encoded data removed]",
            "text/plain": [
              "<Figure size 432x288 with 1 Axes>"
            ]
          },
          "metadata": {
            "tags": [],
            "needs_background": "light"
          }
        },
        {
          "output_type": "execute_result",
          "data": {
            "text/plain": [
              "0.10733333333333334"
            ]
          },
          "metadata": {
            "tags": []
          },
          "execution_count": 1150
        }
      ]
    },
    {
      "cell_type": "markdown",
      "metadata": {
        "id": "jr0JD5p4oOXl"
      },
      "source": [
        "**QUESTION 2.2**: What are the accuracy and loss values? \n",
        "Explain the loss and accuracy graphs.\n",
        "\n",
        "**ANSWER**: \n",
        "\n",
        "Test Accuracy : 0.11359999999999999\n",
        "\n",
        "Test Loss : 2.3594527006149293\n",
        "\n",
        "From those graphs, we can understand that 5 layer dimantion is also not wide enough.\n",
        "In addition, The low LR cause the loss values to decrease in a very small steps that are not enough to improve the current weights ."
      ]
    },
    {
      "cell_type": "markdown",
      "metadata": {
        "id": "X3PaFMS6oK60"
      },
      "source": [
        "#### hidden_layer_dim = 100, lr = 0.0001\n",
        "\n",
        "Set the hidden_layer_dim to 100 and the lr to 0.0001 and train the model."
      ]
    },
    {
      "cell_type": "code",
      "metadata": {
        "id": "zPoDZmuIoKrY",
        "colab": {
          "base_uri": "https://localhost:8080/"
        },
        "outputId": "e323f500-ca94-4bc0-d4af-98e15e4bbfe9"
      },
      "source": [
        "args['hidden_layer_dim'] = 100\n",
        "args['lr']=0.0001  \n",
        "best_model, cur_acc_loss  = train(args, dataloaders)"
      ],
      "execution_count": null,
      "outputs": [
        {
          "output_type": "stream",
          "text": [
            " [>................................................................]  Step: 51s702ms | Tot: 5ms | Train: repeat 1 -- Mean Loss: 2.333 | Last Loss: 2.333 | Train Acc: 0.110% 1/51 \r"
          ],
          "name": "stdout"
        },
        {
          "output_type": "stream",
          "text": [
            "/usr/local/lib/python3.7/dist-packages/ipykernel_launcher.py:21: UserWarning: To copy construct from a tensor, it is recommended to use sourceTensor.clone().detach() or sourceTensor.clone().detach().requires_grad_(True), rather than torch.tensor(sourceTensor).\n"
          ],
          "name": "stderr"
        },
        {
          "output_type": "stream",
          "text": [
            "\n",
            "Train epoch 1: accuracy 0.10625490196078431, loss 2.336301976559209\n",
            "\n",
            "Validation epoch 1: accuracy 0.109, loss 2.3298676278856068\n",
            "========== new best model! epoch 1, accuracy 0.109  ==========\n",
            "\n",
            "Train epoch 2: accuracy 0.10737254901960783, loss 2.334226552177878\n",
            "\n",
            "Validation epoch 2: accuracy 0.111, loss 2.327853282292684\n",
            "========== new best model! epoch 2, accuracy 0.111  ==========\n",
            "\n",
            "Train epoch 3: accuracy 0.1082549019607843, loss 2.332177003224691\n",
            "\n",
            "Validation epoch 3: accuracy 0.112, loss 2.325864871342977\n",
            "\n",
            "Train epoch 4: accuracy 0.10949019607843134, loss 2.3301536242167153\n",
            "\n",
            "Validation epoch 4: accuracy 0.113, loss 2.32389940155877\n",
            "========== new best model! epoch 4, accuracy 0.113  ==========\n",
            "\n",
            "Train epoch 5: accuracy 0.11050980392156863, loss 2.3281548397213805\n",
            "\n",
            "Validation epoch 5: accuracy 0.114, loss 2.3219565550486245\n",
            "\n",
            "Train epoch 6: accuracy 0.11199999999999999, loss 2.3261806263643154\n",
            "\n",
            "Validation epoch 6: accuracy 0.117, loss 2.320038159688314\n",
            "========== new best model! epoch 6, accuracy 0.117  ==========\n",
            "\n",
            "Train epoch 7: accuracy 0.11311764705882353, loss 2.32423033433802\n",
            "\n",
            "Validation epoch 7: accuracy 0.117, loss 2.318141142527262\n",
            "\n",
            "Train epoch 8: accuracy 0.11407843137254901, loss 2.3223027995988432\n",
            "\n",
            "Validation epoch 8: accuracy 0.118, loss 2.316266828113132\n",
            "\n",
            "Train epoch 9: accuracy 0.11523529411764703, loss 2.3203984288608326\n",
            "\n",
            "Validation epoch 9: accuracy 0.12, loss 2.314412832260132\n",
            "========== new best model! epoch 9, accuracy 0.12  ==========\n",
            "\n",
            "Train epoch 10: accuracy 0.11633333333333333, loss 2.3185159739326027\n",
            "\n",
            "Validation epoch 10: accuracy 0.121, loss 2.312580426534017\n",
            "\n",
            "Train epoch 11: accuracy 0.11749019607843138, loss 2.3166549766764923\n",
            "\n",
            "Validation epoch 11: accuracy 0.121, loss 2.3107672267489963\n",
            "\n",
            "Train epoch 12: accuracy 0.11862745098039214, loss 2.3148152828216553\n",
            "\n",
            "Validation epoch 12: accuracy 0.123, loss 2.3089738951789007\n",
            "========== new best model! epoch 12, accuracy 0.123  ==========\n",
            "\n",
            "Train epoch 13: accuracy 0.11978431372549021, loss 2.31299584052142\n",
            "\n",
            "Validation epoch 13: accuracy 0.124, loss 2.307199822531806\n",
            "\n",
            "Train epoch 14: accuracy 0.12101960784313726, loss 2.311196589002422\n",
            "\n",
            "Validation epoch 14: accuracy 0.126, loss 2.3054449293348522\n",
            "========== new best model! epoch 14, accuracy 0.126  ==========\n",
            "\n",
            "Train epoch 15: accuracy 0.12243137254901962, loss 2.3094164951174867\n",
            "\n",
            "Validation epoch 15: accuracy 0.128, loss 2.303707149293688\n",
            "========== new best model! epoch 15, accuracy 0.128  ==========\n",
            "===================== Test Results =====================\n",
            "Test Accuracy : 0.12320000000000002\n",
            "Test Loss : 2.311529779434204\n"
          ],
          "name": "stdout"
        }
      ]
    },
    {
      "cell_type": "code",
      "metadata": {
        "id": "pbwqFSjaoKo2",
        "colab": {
          "base_uri": "https://localhost:8080/",
          "height": 576
        },
        "outputId": "a5189d7d-3dd3-4d1e-cbec-c40ce185b85e"
      },
      "source": [
        "training_accuracies = cur_acc_loss['training_accuracies']\n",
        "val_accuracies = cur_acc_loss['val_accuracies']\n",
        "training_losses = cur_acc_loss['training_losses']\n",
        "val_losses = cur_acc_loss['val_losses']\n",
        "plot_graphs(training_accuracies, val_accuracies, training_losses, val_losses)"
      ],
      "execution_count": null,
      "outputs": [
        {
          "output_type": "stream",
          "text": [
            "Best val accuracy was 0.12766666666666665, at epoch 14\n"
          ],
          "name": "stdout"
        },
        {
          "output_type": "display_data",
          "data": {
            "image/png": "[encoded data removed]",
            "text/plain": [
              "<Figure size 432x288 with 1 Axes>"
            ]
          },
          "metadata": {
            "tags": [],
            "needs_background": "light"
          }
        },
        {
          "output_type": "display_data",
          "data": {
            "image/png": "[encoded data removed]",
            "text/plain": [
              "<Figure size 432x288 with 1 Axes>"
            ]
          },
          "metadata": {
            "tags": [],
            "needs_background": "light"
          }
        },
        {
          "output_type": "execute_result",
          "data": {
            "text/plain": [
              "0.12766666666666665"
            ]
          },
          "metadata": {
            "tags": []
          },
          "execution_count": 1152
        }
      ]
    },
    {
      "cell_type": "markdown",
      "metadata": {
        "id": "Vz-A4TRApCWu"
      },
      "source": [
        "**QUESTION 2.3**: What are the accuracy and loss values? \n",
        "Explain the loss and accuracy graphs.\n",
        "\n",
        "**ANSWER**: \n",
        "Test Accuracy : 0.12320000000000002\n",
        "Test Loss : 2.311529779434204\n",
        "\n",
        "As we saw in the previous tests, the low LR cause the model to learn slowly, the weigts get changed to the right direction but in very small steps. \n"
      ]
    },
    {
      "cell_type": "markdown",
      "metadata": {
        "id": "1XlS3yYpofTA"
      },
      "source": [
        "#### hidden_layer_dim = 200, lr = 0.0001\n",
        "\n",
        "Set the hidden_layer_dim to 200 and the lr to 0.0001 and train the model."
      ]
    },
    {
      "cell_type": "code",
      "metadata": {
        "id": "IX_7dHTFofD9",
        "colab": {
          "base_uri": "https://localhost:8080/"
        },
        "outputId": "111d99af-62de-400d-afcd-e77efdfcd3a3"
      },
      "source": [
        "args['hidden_layer_dim'] = 200\n",
        "args['lr']=0.0001  \n",
        "best_model, cur_acc_loss  = train(args, dataloaders)"
      ],
      "execution_count": null,
      "outputs": [
        {
          "output_type": "stream",
          "text": [
            " [>................................................................]  Step: 2m51s | Tot: 6ms | Train: repeat 1 -- Mean Loss: 2.314 | Last Loss: 2.314 | Train Acc: 0.153% 1/51 \r"
          ],
          "name": "stdout"
        },
        {
          "output_type": "stream",
          "text": [
            "/usr/local/lib/python3.7/dist-packages/ipykernel_launcher.py:21: UserWarning: To copy construct from a tensor, it is recommended to use sourceTensor.clone().detach() or sourceTensor.clone().detach().requires_grad_(True), rather than torch.tensor(sourceTensor).\n"
          ],
          "name": "stderr"
        },
        {
          "output_type": "stream",
          "text": [
            "\n",
            "Train epoch 1: accuracy 0.146843137254902, loss 2.3086161099228204\n",
            "\n",
            "Validation epoch 1: accuracy 0.154, loss 2.307937092251248\n",
            "========== new best model! epoch 1, accuracy 0.154  ==========\n",
            "\n",
            "Train epoch 2: accuracy 0.15215686274509807, loss 2.3063133557637534\n",
            "\n",
            "Validation epoch 2: accuracy 0.16, loss 2.3056043783823648\n",
            "========== new best model! epoch 2, accuracy 0.16  ==========\n",
            "\n",
            "Train epoch 3: accuracy 0.15815686274509805, loss 2.3040627778745164\n",
            "\n",
            "Validation epoch 3: accuracy 0.166, loss 2.3033220767974854\n",
            "========== new best model! epoch 3, accuracy 0.166  ==========\n",
            "\n",
            "Train epoch 4: accuracy 0.1641176470588235, loss 2.3018615058824126\n",
            "\n",
            "Validation epoch 4: accuracy 0.172, loss 2.3010879622565374\n",
            "========== new best model! epoch 4, accuracy 0.172  ==========\n",
            "\n",
            "Train epoch 5: accuracy 0.17101960784313727, loss 2.2997080064287374\n",
            "\n",
            "Validation epoch 5: accuracy 0.178, loss 2.2989006572299533\n",
            "========== new best model! epoch 5, accuracy 0.178  ==========\n",
            "\n",
            "Train epoch 6: accuracy 0.17705882352941174, loss 2.2975989323036345\n",
            "\n",
            "Validation epoch 6: accuracy 0.186, loss 2.296756797366672\n",
            "========== new best model! epoch 6, accuracy 0.186  ==========\n",
            "\n",
            "Train epoch 7: accuracy 0.18337254901960784, loss 2.2955328623453775\n",
            "\n",
            "Validation epoch 7: accuracy 0.192, loss 2.294655587938097\n",
            "========== new best model! epoch 7, accuracy 0.192  ==========\n",
            "\n",
            "Train epoch 8: accuracy 0.19007843137254904, loss 2.2935072113485897\n",
            "\n",
            "Validation epoch 8: accuracy 0.198, loss 2.2925927903917103\n",
            "========== new best model! epoch 8, accuracy 0.198  ==========\n",
            "\n",
            "Train epoch 9: accuracy 0.19580392156862744, loss 2.2915198569204294\n",
            "\n",
            "Validation epoch 9: accuracy 0.204, loss 2.2905684312184653\n",
            "========== new best model! epoch 9, accuracy 0.204  ==========\n",
            "\n",
            "Train epoch 10: accuracy 0.20129411764705882, loss 2.2895696817659865\n",
            "\n",
            "Validation epoch 10: accuracy 0.21, loss 2.288580311669244\n",
            "========== new best model! epoch 10, accuracy 0.21  ==========\n",
            "\n",
            "Train epoch 11: accuracy 0.20690196078431375, loss 2.2876539791331574\n",
            "\n",
            "Validation epoch 11: accuracy 0.217, loss 2.286626312467787\n",
            "========== new best model! epoch 11, accuracy 0.217  ==========\n",
            "\n",
            "Train epoch 12: accuracy 0.21241176470588236, loss 2.285771318510467\n",
            "\n",
            "Validation epoch 12: accuracy 0.22, loss 2.2847053739759655\n",
            "========== new best model! epoch 12, accuracy 0.22  ==========\n",
            "\n",
            "Train epoch 13: accuracy 0.2173137254901961, loss 2.2839204563814053\n",
            "\n",
            "Validation epoch 13: accuracy 0.225, loss 2.2828139464060464\n",
            "========== new best model! epoch 13, accuracy 0.225  ==========\n",
            "\n",
            "Train epoch 14: accuracy 0.22225490196078437, loss 2.282098648594875\n",
            "\n",
            "Validation epoch 14: accuracy 0.228, loss 2.280952903959486\n",
            "========== new best model! epoch 14, accuracy 0.228  ==========\n",
            "\n",
            "Train epoch 15: accuracy 0.22647058823529417, loss 2.2803058577518835\n",
            "\n",
            "Validation epoch 15: accuracy 0.232, loss 2.279118378957113\n",
            "========== new best model! epoch 15, accuracy 0.232  ==========\n",
            "===================== Test Results =====================\n",
            "Test Accuracy : 0.2354\n",
            "Test Loss : 2.2782203912734986\n"
          ],
          "name": "stdout"
        }
      ]
    },
    {
      "cell_type": "code",
      "metadata": {
        "id": "WillXgJqoyE0",
        "colab": {
          "base_uri": "https://localhost:8080/",
          "height": 580
        },
        "outputId": "c6356429-5403-4e12-e947-62a105595d6d"
      },
      "source": [
        "training_accuracies = cur_acc_loss['training_accuracies']\n",
        "val_accuracies = cur_acc_loss['val_accuracies']\n",
        "training_losses = cur_acc_loss['training_losses']\n",
        "val_losses = cur_acc_loss['val_losses']\n",
        "plot_graphs(training_accuracies, val_accuracies, training_losses, val_losses)"
      ],
      "execution_count": null,
      "outputs": [
        {
          "output_type": "stream",
          "text": [
            "Best val accuracy was 0.232, at epoch 14\n"
          ],
          "name": "stdout"
        },
        {
          "output_type": "display_data",
          "data": {
            "image/png": "[encoded data removed]",
            "text/plain": [
              "<Figure size 432x288 with 1 Axes>"
            ]
          },
          "metadata": {
            "tags": [],
            "needs_background": "light"
          }
        },
        {
          "output_type": "display_data",
          "data": {
            "image/png": "[encoded data removed]",
            "text/plain": [
              "<Figure size 432x288 with 1 Axes>"
            ]
          },
          "metadata": {
            "tags": [],
            "needs_background": "light"
          }
        },
        {
          "output_type": "execute_result",
          "data": {
            "text/plain": [
              "0.232"
            ]
          },
          "metadata": {
            "tags": []
          },
          "execution_count": 1168
        }
      ]
    },
    {
      "cell_type": "markdown",
      "metadata": {
        "id": "ifzZNVYJpFH0"
      },
      "source": [
        "**QUESTION 2.4**: What are the accuracy and loss values? \n",
        "Explain the loss and accuracy graphs.\n",
        "\n",
        "**ANSWER**: \n",
        "Test Accuracy : 0.2354\n",
        "Test Loss : 2.2782203912734986\n",
        "\n",
        "From those graphs we can understand the train and test sets getting almost same results .thats means that the model isn't learning only the test samples (overfitting), it exceed to get same accuracy for both graphs. \n",
        "as for the LR, its low value affect the model like we describe above."
      ]
    },
    {
      "cell_type": "markdown",
      "metadata": {
        "id": "UlnLQeMtpZcD"
      },
      "source": [
        "### Finetuning learning rate"
      ]
    },
    {
      "cell_type": "markdown",
      "metadata": {
        "id": "4iR-C0TZpgBz"
      },
      "source": [
        "#### hidden_layer_dim = 100, lr = 0.000001\n",
        "\n",
        "Set the hidden_layer_dim to 100 and the lr to 0.000001 and train the model."
      ]
    },
    {
      "cell_type": "code",
      "metadata": {
        "id": "V1KoiAFLpdJl",
        "colab": {
          "base_uri": "https://localhost:8080/"
        },
        "outputId": "3f17e1ab-69cd-4844-e73e-4670b49e628b"
      },
      "source": [
        "args['hidden_layer_dim'] = 100\n",
        "args['lr']=0.000001  \n",
        "best_model, cur_acc_loss  = train(args, dataloaders)"
      ],
      "execution_count": null,
      "outputs": [
        {
          "output_type": "stream",
          "text": [
            " [>................................................................]  Step: 8m56s | Tot: 5ms | Train: repeat 1 -- Mean Loss: 2.333 | Last Loss: 2.333 | Train Acc: 0.110% 1/51 \r"
          ],
          "name": "stdout"
        },
        {
          "output_type": "stream",
          "text": [
            "/usr/local/lib/python3.7/dist-packages/ipykernel_launcher.py:21: UserWarning: To copy construct from a tensor, it is recommended to use sourceTensor.clone().detach() or sourceTensor.clone().detach().requires_grad_(True), rather than torch.tensor(sourceTensor).\n"
          ],
          "name": "stderr"
        },
        {
          "output_type": "stream",
          "text": [
            "\n",
            "Train epoch 1: accuracy 0.10574509803921568, loss 2.3373164850122787\n",
            "\n",
            "Validation epoch 1: accuracy 0.107, loss 2.3318874306148953\n",
            "========== new best model! epoch 1, accuracy 0.107  ==========\n",
            "\n",
            "Train epoch 2: accuracy 0.10576470588235296, loss 2.3372954948275697\n",
            "\n",
            "Validation epoch 2: accuracy 0.107, loss 2.331866635216607\n",
            "\n",
            "Train epoch 3: accuracy 0.10580392156862745, loss 2.337274757086062\n",
            "\n",
            "Validation epoch 3: accuracy 0.108, loss 2.331846687528822\n",
            "\n",
            "Train epoch 4: accuracy 0.10580392156862745, loss 2.337253645354626\n",
            "\n",
            "Validation epoch 4: accuracy 0.108, loss 2.3318260775672064\n",
            "\n",
            "Train epoch 5: accuracy 0.10580392156862745, loss 2.3372328047658883\n",
            "\n",
            "Validation epoch 5: accuracy 0.108, loss 2.331805838478936\n",
            "\n",
            "Train epoch 6: accuracy 0.10582352941176473, loss 2.3372123521917008\n",
            "\n",
            "Validation epoch 6: accuracy 0.108, loss 2.331786102718777\n",
            "\n",
            "Train epoch 7: accuracy 0.10582352941176473, loss 2.3371915864009485\n",
            "\n",
            "Validation epoch 7: accuracy 0.108, loss 2.3317658371395535\n",
            "\n",
            "Train epoch 8: accuracy 0.10584313725490198, loss 2.3371707130880917\n",
            "\n",
            "Validation epoch 8: accuracy 0.108, loss 2.3317452801598444\n",
            "\n",
            "Train epoch 9: accuracy 0.10586274509803921, loss 2.337150022095325\n",
            "\n",
            "Validation epoch 9: accuracy 0.108, loss 2.3317238489786782\n",
            "\n",
            "Train epoch 10: accuracy 0.10586274509803921, loss 2.3371290132111193\n",
            "\n",
            "Validation epoch 10: accuracy 0.108, loss 2.331705013910929\n",
            "\n",
            "Train epoch 11: accuracy 0.1058823529411765, loss 2.3371083923414644\n",
            "\n",
            "Validation epoch 11: accuracy 0.108, loss 2.33168355623881\n",
            "\n",
            "Train epoch 12: accuracy 0.1058823529411765, loss 2.33708745358037\n",
            "\n",
            "Validation epoch 12: accuracy 0.108, loss 2.33166413837009\n",
            "\n",
            "Train epoch 13: accuracy 0.10590196078431374, loss 2.3370665381936466\n",
            "\n",
            "Validation epoch 13: accuracy 0.108, loss 2.3316432105170355\n",
            "\n",
            "Train epoch 14: accuracy 0.10592156862745099, loss 2.3370459780973545\n",
            "\n",
            "Validation epoch 14: accuracy 0.108, loss 2.3316224681006537\n",
            "\n",
            "Train epoch 15: accuracy 0.10592156862745099, loss 2.337025151533239\n",
            "\n",
            "Validation epoch 15: accuracy 0.108, loss 2.331602599885729\n",
            "===================== Test Results =====================\n",
            "Test Accuracy : 0.10619999999999999\n",
            "Test Loss : 2.341057372093201\n"
          ],
          "name": "stdout"
        }
      ]
    },
    {
      "cell_type": "code",
      "metadata": {
        "id": "yBxmF_JmpdHV",
        "colab": {
          "base_uri": "https://localhost:8080/",
          "height": 576
        },
        "outputId": "5ce3323b-63e9-4696-8b34-cf632420c957"
      },
      "source": [
        "training_accuracies = cur_acc_loss['training_accuracies']\n",
        "val_accuracies = cur_acc_loss['val_accuracies']\n",
        "training_losses = cur_acc_loss['training_losses']\n",
        "val_losses = cur_acc_loss['val_losses']\n",
        "plot_graphs(training_accuracies, val_accuracies, training_losses, val_losses)"
      ],
      "execution_count": null,
      "outputs": [
        {
          "output_type": "stream",
          "text": [
            "Best val accuracy was 0.10777777777777779, at epoch 14\n"
          ],
          "name": "stdout"
        },
        {
          "output_type": "display_data",
          "data": {
            "image/png": "[encoded data removed]",
            "text/plain": [
              "<Figure size 432x288 with 1 Axes>"
            ]
          },
          "metadata": {
            "tags": [],
            "needs_background": "light"
          }
        },
        {
          "output_type": "display_data",
          "data": {
            "image/png": "[encoded data removed]",
            "text/plain": [
              "<Figure size 432x288 with 1 Axes>"
            ]
          },
          "metadata": {
            "tags": [],
            "needs_background": "light"
          }
        },
        {
          "output_type": "execute_result",
          "data": {
            "text/plain": [
              "0.10777777777777779"
            ]
          },
          "metadata": {
            "tags": []
          },
          "execution_count": 1156
        }
      ]
    },
    {
      "cell_type": "markdown",
      "metadata": {
        "id": "qzcu8miVpol0"
      },
      "source": [
        "**QUESTION 3.1**: What are the accuracy and loss values? \n",
        "Explain the loss and accuracy graphs.\n",
        "\n",
        "**ANSWER**:\n",
        "Test Accuracy : 0.10619999999999999\n",
        "Test Loss : 2.341057372093201\n",
        "\n",
        "The LR is too low. we can see the loss value nearly doesnt get changed. the derivative of the function is almost zero during all the learning procces.  "
      ]
    },
    {
      "cell_type": "markdown",
      "metadata": {
        "id": "L05XJ1I2qJRv"
      },
      "source": [
        "#### hidden_layer_dim = 100, lr = 0.1\n",
        "\n",
        "Set the hidden_layer_dim to 1 and the lr to 0.1 and train the model."
      ]
    },
    {
      "cell_type": "code",
      "metadata": {
        "id": "2Lj05cfnprOk",
        "colab": {
          "base_uri": "https://localhost:8080/"
        },
        "outputId": "2a565979-15d0-4711-b5ce-7861d71a3fd7"
      },
      "source": [
        "args['hidden_layer_dim'] = 100\n",
        "args['lr']= 0.1\n",
        "best_model, cur_acc_loss  = train(args, dataloaders)"
      ],
      "execution_count": null,
      "outputs": [
        {
          "output_type": "stream",
          "text": [
            " [>................................................................]  Step: 8m46s | Tot: 2ms | Train: repeat 1 -- Mean Loss: 2.333 | Last Loss: 2.333 | Train Acc: 0.110% 1/51 \r"
          ],
          "name": "stdout"
        },
        {
          "output_type": "stream",
          "text": [
            "/usr/local/lib/python3.7/dist-packages/ipykernel_launcher.py:21: UserWarning: To copy construct from a tensor, it is recommended to use sourceTensor.clone().detach() or sourceTensor.clone().detach().requires_grad_(True), rather than torch.tensor(sourceTensor).\n"
          ],
          "name": "stderr"
        },
        {
          "output_type": "stream",
          "text": [
            "\n",
            "Train epoch 1: accuracy 0.6087058823529411, loss 1.7832368074678908\n",
            "\n",
            "Validation epoch 1: accuracy 0.784, loss 1.2550417979558308\n",
            "========== new best model! epoch 1, accuracy 0.784  ==========\n",
            "\n",
            "Train epoch 2: accuracy 0.7927058823529411, loss 1.0228023365432142\n",
            "\n",
            "Validation epoch 2: accuracy 0.852, loss 0.7732346124119229\n",
            "========== new best model! epoch 2, accuracy 0.852  ==========\n",
            "\n",
            "Train epoch 3: accuracy 0.8458431372549019, loss 0.7170969095884585\n",
            "\n",
            "Validation epoch 3: accuracy 0.882, loss 0.5780054794417487\n",
            "========== new best model! epoch 3, accuracy 0.882  ==========\n",
            "\n",
            "Train epoch 4: accuracy 0.8677058823529413, loss 0.576014603469886\n",
            "\n",
            "Validation epoch 4: accuracy 0.894, loss 0.47838329275449115\n",
            "========== new best model! epoch 4, accuracy 0.894  ==========\n",
            "\n",
            "Train epoch 5: accuracy 0.8802745098039216, loss 0.49687543511390686\n",
            "\n",
            "Validation epoch 5: accuracy 0.9, loss 0.4197650154431661\n",
            "========== new best model! epoch 5, accuracy 0.9  ==========\n",
            "\n",
            "Train epoch 6: accuracy 0.8878039215686274, loss 0.4470256257290934\n",
            "\n",
            "Validation epoch 6: accuracy 0.905, loss 0.38176848822169834\n",
            "========== new best model! epoch 6, accuracy 0.905  ==========\n",
            "\n",
            "Train epoch 7: accuracy 0.8930000000000001, loss 0.41293778898669226\n",
            "\n",
            "Validation epoch 7: accuracy 0.909, loss 0.35523194405767655\n",
            "========== new best model! epoch 7, accuracy 0.909  ==========\n",
            "\n",
            "Train epoch 8: accuracy 0.8966470588235296, loss 0.3880729108464484\n",
            "\n",
            "Validation epoch 8: accuracy 0.912, loss 0.33556381199094987\n",
            "========== new best model! epoch 8, accuracy 0.912  ==========\n",
            "\n",
            "Train epoch 9: accuracy 0.9000392156862745, loss 0.36897409897224576\n",
            "\n",
            "Validation epoch 9: accuracy 0.915, loss 0.3202793598175049\n",
            "========== new best model! epoch 9, accuracy 0.915  ==========\n",
            "\n",
            "Train epoch 10: accuracy 0.9025882352941177, loss 0.3536871198345633\n",
            "\n",
            "Validation epoch 10: accuracy 0.917, loss 0.30794379115104675\n",
            "========== new best model! epoch 10, accuracy 0.917  ==========\n",
            "\n",
            "Train epoch 11: accuracy 0.9050784313725492, loss 0.34104155559165805\n",
            "\n",
            "Validation epoch 11: accuracy 0.918, loss 0.29768160316679215\n",
            "\n",
            "Train epoch 12: accuracy 0.9073921568627451, loss 0.33029939614090265\n",
            "\n",
            "Validation epoch 12: accuracy 0.919, loss 0.28893135653601754\n",
            "========== new best model! epoch 12, accuracy 0.919  ==========\n",
            "\n",
            "Train epoch 13: accuracy 0.9095098039215685, loss 0.32097475084604\n",
            "\n",
            "Validation epoch 13: accuracy 0.921, loss 0.2813180519474877\n",
            "========== new best model! epoch 13, accuracy 0.921  ==========\n",
            "\n",
            "Train epoch 14: accuracy 0.9113137254901963, loss 0.31273490044416163\n",
            "\n",
            "Validation epoch 14: accuracy 0.923, loss 0.27458175188965267\n",
            "========== new best model! epoch 14, accuracy 0.923  ==========\n",
            "\n",
            "Train epoch 15: accuracy 0.9130588235294118, loss 0.3053449836431765\n",
            "\n",
            "Validation epoch 15: accuracy 0.924, loss 0.2685374038086997\n",
            "===================== Test Results =====================\n",
            "Test Accuracy : 0.9190000000000002\n",
            "Test Loss : 0.293029423058033\n"
          ],
          "name": "stdout"
        }
      ]
    },
    {
      "cell_type": "code",
      "metadata": {
        "id": "c1Dk9jJoprRW",
        "colab": {
          "base_uri": "https://localhost:8080/",
          "height": 576
        },
        "outputId": "d07dc42f-1f80-4a2f-ba65-9eb4ccd5f94e"
      },
      "source": [
        "training_accuracies = cur_acc_loss['training_accuracies']\n",
        "val_accuracies = cur_acc_loss['val_accuracies']\n",
        "training_losses = cur_acc_loss['training_losses']\n",
        "val_losses = cur_acc_loss['val_losses']\n",
        "plot_graphs(training_accuracies, val_accuracies, training_losses, val_losses)"
      ],
      "execution_count": null,
      "outputs": [
        {
          "output_type": "stream",
          "text": [
            "Best val accuracy was 0.5297777777777779, at epoch 14\n"
          ],
          "name": "stdout"
        },
        {
          "output_type": "display_data",
          "data": {
            "image/png": "[encoded data removed]",
            "text/plain": [
              "<Figure size 432x288 with 1 Axes>"
            ]
          },
          "metadata": {
            "tags": [],
            "needs_background": "light"
          }
        },
        {
          "output_type": "display_data",
          "data": {
            "image/png": "[encoded data removed]",
            "text/plain": [
              "<Figure size 432x288 with 1 Axes>"
            ]
          },
          "metadata": {
            "tags": [],
            "needs_background": "light"
          }
        },
        {
          "output_type": "execute_result",
          "data": {
            "text/plain": [
              "0.5297777777777779"
            ]
          },
          "metadata": {
            "tags": []
          },
          "execution_count": 1161
        }
      ]
    },
    {
      "cell_type": "markdown",
      "metadata": {
        "id": "9g41FSWYprr1"
      },
      "source": [
        "**QUESTION 3.2**: What are the accuracy and loss values? \n",
        "Explain the loss and accuracy graphs.\n",
        "\n",
        "**ANSWER**: \n",
        "Test Accuracy : 0.9190000000000002\n",
        "Test Loss : 0.293029423058033\n",
        "\n",
        "With those LR and hidden layer dimension we can see the loss function decreacing signifactly and the accuracy values get improved for both sets.\n",
        "We can understand that the bigger steps we took while changing the weights cause the model to learn how to imporve the predictions."
      ]
    },
    {
      "cell_type": "markdown",
      "metadata": {
        "id": "enbLEfg9pp0d"
      },
      "source": [
        "#### hidden_layer_dim = 100, lr = 0.001\n",
        "\n",
        "Set the hidden_layer_dim to 100 and the lr to 0.001 and train the model."
      ]
    },
    {
      "cell_type": "code",
      "metadata": {
        "id": "Q9cTk0dMpdFM",
        "colab": {
          "base_uri": "https://localhost:8080/"
        },
        "outputId": "46c12c08-ff9b-4a9e-96f2-356fecb40c60"
      },
      "source": [
        "args['hidden_layer_dim'] = 100\n",
        "args['lr']=0.001  \n",
        "best_model, cur_acc_loss  = train(args, dataloaders)"
      ],
      "execution_count": null,
      "outputs": [
        {
          "output_type": "stream",
          "text": [
            " [>................................................................]  Step: 6m45s | Tot: 6ms | Train: repeat 1 -- Mean Loss: 2.333 | Last Loss: 2.333 | Train Acc: 0.110% 1/51 \r"
          ],
          "name": "stdout"
        },
        {
          "output_type": "stream",
          "text": [
            "/usr/local/lib/python3.7/dist-packages/ipykernel_launcher.py:21: UserWarning: To copy construct from a tensor, it is recommended to use sourceTensor.clone().detach() or sourceTensor.clone().detach().requires_grad_(True), rather than torch.tensor(sourceTensor).\n"
          ],
          "name": "stderr"
        },
        {
          "output_type": "stream",
          "text": [
            "\n",
            "Train epoch 1: accuracy 0.11129411764705882, loss 2.327447549969542\n",
            "\n",
            "Validation epoch 1: accuracy 0.121, loss 2.312569777170817\n",
            "========== new best model! epoch 1, accuracy 0.121  ==========\n",
            "\n",
            "Train epoch 2: accuracy 0.12323529411764707, loss 2.3087680012572047\n",
            "\n",
            "Validation epoch 2: accuracy 0.134, loss 2.2952632904052734\n",
            "========== new best model! epoch 2, accuracy 0.134  ==========\n",
            "\n",
            "Train epoch 3: accuracy 0.13654901960784313, loss 2.29198761547313\n",
            "\n",
            "Validation epoch 3: accuracy 0.148, loss 2.2795251740349665\n",
            "========== new best model! epoch 3, accuracy 0.148  ==========\n",
            "\n",
            "Train epoch 4: accuracy 0.1517058823529412, loss 2.2766807453305113\n",
            "\n",
            "Validation epoch 4: accuracy 0.166, loss 2.2649931642744274\n",
            "========== new best model! epoch 4, accuracy 0.166  ==========\n",
            "\n",
            "Train epoch 5: accuracy 0.16778431372549021, loss 2.2625117629182103\n",
            "\n",
            "Validation epoch 5: accuracy 0.188, loss 2.2513804170820446\n",
            "========== new best model! epoch 5, accuracy 0.188  ==========\n",
            "\n",
            "Train epoch 6: accuracy 0.1860980392156863, loss 2.2492169352138744\n",
            "\n",
            "Validation epoch 6: accuracy 0.21, loss 2.238464673360189\n",
            "========== new best model! epoch 6, accuracy 0.21  ==========\n",
            "\n",
            "Train epoch 7: accuracy 0.21794117647058828, loss 2.2365890671225155\n",
            "\n",
            "Validation epoch 7: accuracy 0.26, loss 2.226073874367608\n",
            "========== new best model! epoch 7, accuracy 0.26  ==========\n",
            "\n",
            "Train epoch 8: accuracy 0.27203921568627454, loss 2.2244668240640677\n",
            "\n",
            "Validation epoch 8: accuracy 0.321, loss 2.2140731811523438\n",
            "========== new best model! epoch 8, accuracy 0.321  ==========\n",
            "\n",
            "Train epoch 9: accuracy 0.32817647058823535, loss 2.2127255832447723\n",
            "\n",
            "Validation epoch 9: accuracy 0.372, loss 2.202359331978692\n",
            "========== new best model! epoch 9, accuracy 0.372  ==========\n",
            "\n",
            "Train epoch 10: accuracy 0.3762745098039216, loss 2.201268579445633\n",
            "\n",
            "Validation epoch 10: accuracy 0.417, loss 2.1908552646636963\n",
            "========== new best model! epoch 10, accuracy 0.417  ==========\n",
            "\n",
            "Train epoch 11: accuracy 0.4145490196078431, loss 2.1900219917297363\n",
            "\n",
            "Validation epoch 11: accuracy 0.454, loss 2.179501083162096\n",
            "========== new best model! epoch 11, accuracy 0.454  ==========\n",
            "\n",
            "Train epoch 12: accuracy 0.44486274509803925, loss 2.1789291559481154\n",
            "\n",
            "Validation epoch 12: accuracy 0.481, loss 2.1682527330186634\n",
            "========== new best model! epoch 12, accuracy 0.481  ==========\n",
            "\n",
            "Train epoch 13: accuracy 0.46843137254901956, loss 2.1679473250519994\n",
            "\n",
            "Validation epoch 13: accuracy 0.5, loss 2.157076014412774\n",
            "========== new best model! epoch 13, accuracy 0.5  ==========\n",
            "\n",
            "Train epoch 14: accuracy 0.4872156862745098, loss 2.157043405607635\n",
            "\n",
            "Validation epoch 14: accuracy 0.516, loss 2.1459454430474176\n",
            "========== new best model! epoch 14, accuracy 0.516  ==========\n",
            "\n",
            "Train epoch 15: accuracy 0.5022549019607843, loss 2.1461928732254925\n",
            "\n",
            "Validation epoch 15: accuracy 0.53, loss 2.134842210345798\n",
            "========== new best model! epoch 15, accuracy 0.53  ==========\n",
            "===================== Test Results =====================\n",
            "Test Accuracy : 0.5118\n",
            "Test Loss : 2.139141869544983\n"
          ],
          "name": "stdout"
        }
      ]
    },
    {
      "cell_type": "code",
      "metadata": {
        "id": "hJNDGw6bpy5q",
        "colab": {
          "base_uri": "https://localhost:8080/",
          "height": 576
        },
        "outputId": "af168f53-0c7c-4373-afdd-74084f09c349"
      },
      "source": [
        "training_accuracies = cur_acc_loss['training_accuracies']\n",
        "val_accuracies = cur_acc_loss['val_accuracies']\n",
        "training_losses = cur_acc_loss['training_losses']\n",
        "val_losses = cur_acc_loss['val_losses']\n",
        "plot_graphs(training_accuracies, val_accuracies, training_losses, val_losses)"
      ],
      "execution_count": null,
      "outputs": [
        {
          "output_type": "stream",
          "text": [
            "Best val accuracy was 0.5297777777777779, at epoch 14\n"
          ],
          "name": "stdout"
        },
        {
          "output_type": "display_data",
          "data": {
            "image/png": "[encoded data removed]",
            "text/plain": [
              "<Figure size 432x288 with 1 Axes>"
            ]
          },
          "metadata": {
            "tags": [],
            "needs_background": "light"
          }
        },
        {
          "output_type": "display_data",
          "data": {
            "image/png": "[encoded data removed]",
            "text/plain": [
              "<Figure size 432x288 with 1 Axes>"
            ]
          },
          "metadata": {
            "tags": [],
            "needs_background": "light"
          }
        },
        {
          "output_type": "execute_result",
          "data": {
            "text/plain": [
              "0.5297777777777779"
            ]
          },
          "metadata": {
            "tags": []
          },
          "execution_count": 1159
        }
      ]
    },
    {
      "cell_type": "markdown",
      "metadata": {
        "id": "8SWb7cpjpqdc"
      },
      "source": [
        "**QUESTION 3.3**: What are the accuracy and loss values? \n",
        "Explain the loss and accuracy graphs.\n",
        "\n",
        "**ANSWER**: \n",
        "Test Accuracy : 0.5118\n",
        "Test Loss : 2.139141869544983\n",
        "\n",
        "The LR is too low, which means that when we improve the weights, the multiply of the LR with the derivative neutralize. "
      ]
    },
    {
      "cell_type": "markdown",
      "metadata": {
        "id": "c62bjGf8IFDK"
      },
      "source": [
        "**QUESTION 4:** : Suggest a way to improve the results by changing the networks's architecture  \n",
        "\n",
        "**ANSWER**:\n",
        "We can increate more hidden layer, with a varity of activation functions.\n",
        "In addintion, we can change the number epocs to get the number that improve the model the best.\n",
        "\n"
      ]
    },
    {
      "cell_type": "markdown",
      "metadata": {
        "id": "mUXcjrA9zPZ8"
      },
      "source": [
        "## Explainability"
      ]
    },
    {
      "cell_type": "markdown",
      "metadata": {
        "id": "F-qF46Mo3AID"
      },
      "source": [
        "Here we will plot some of the network weights"
      ]
    },
    {
      "cell_type": "code",
      "metadata": {
        "id": "BvstDmGeIFDL",
        "colab": {
          "base_uri": "https://localhost:8080/",
          "height": 1000
        },
        "outputId": "6e729f31-2172-4d2f-d937-612045aeb0b4"
      },
      "source": [
        "# Visualize some weights. features of digits should be somehow present.\n",
        "def show_net_weights(net_params):\n",
        "    W1 = net_params.fc1.weight.data.numpy().T\n",
        "    print(W1.shape)\n",
        "    for i in range(5):\n",
        "        W = W1[:,i*5].reshape(28, 28)\n",
        "        plt.imshow(W,cmap='gray')\n",
        "        plt.axis('off')\n",
        "        plt.show()\n",
        "\n",
        "show_net_weights(best_model)\n"
      ],
      "execution_count": null,
      "outputs": [
        {
          "output_type": "stream",
          "text": [
            "(784, 100)\n"
          ],
          "name": "stdout"
        },
        {
          "output_type": "display_data",
          "data": {
            "image/png": "[encoded data removed]",
            "text/plain": [
              "<Figure size 432x288 with 1 Axes>"
            ]
          },
          "metadata": {
            "tags": [],
            "needs_background": "light"
          }
        },
        {
          "output_type": "display_data",
          "data": {
            "image/png": "[encoded data removed]",
            "text/plain": [
              "<Figure size 432x288 with 1 Axes>"
            ]
          },
          "metadata": {
            "tags": [],
            "needs_background": "light"
          }
        },
        {
          "output_type": "display_data",
          "data": {
            "image/png": "[encoded data removed]",
            "text/plain": [
              "<Figure size 432x288 with 1 Axes>"
            ]
          },
          "metadata": {
            "tags": [],
            "needs_background": "light"
          }
        },
        {
          "output_type": "display_data",
          "data": {
            "image/png": "[encoded data removed]",
            "text/plain": [
              "<Figure size 432x288 with 1 Axes>"
            ]
          },
          "metadata": {
            "tags": [],
            "needs_background": "light"
          }
        },
        {
          "output_type": "display_data",
          "data": {
            "image/png": "[encoded data removed]",
            "text/plain": [
              "<Figure size 432x288 with 1 Axes>"
            ]
          },
          "metadata": {
            "tags": [],
            "needs_background": "light"
          }
        }
      ]
    },
    {
      "cell_type": "markdown",
      "metadata": {
        "id": "-Vnl73lc3FwA"
      },
      "source": [
        "**QUESTION 5:** Where are the bright regions? why?\n",
        "\n",
        "**ANSWER:**\n",
        "The brights reagion are found at the middle of the weights demonstration. \n",
        "The reason is that the most of the features can be found in the center area of any photo of digit."
      ]
    }
  ]
}